{
 "cells": [
  {
   "cell_type": "markdown",
   "metadata": {},
   "source": [
    "### Midi Control Notebook"
   ]
  },
  {
   "cell_type": "code",
   "execution_count": null,
   "metadata": {},
   "outputs": [],
   "source": [
    "import rtmidi\n",
    "import lib.clients.midi_message as mm"
   ]
  },
  {
   "cell_type": "code",
   "execution_count": null,
   "metadata": {},
   "outputs": [],
   "source": [
    "midi_out = rtmidi.MidiOut()\n",
    "available_ports = midi_out.get_ports()\n",
    "print(f\"available midi ports: {available_ports}\")"
   ]
  },
  {
   "cell_type": "code",
   "execution_count": null,
   "metadata": {},
   "outputs": [],
   "source": [
    "# choose one of the available midi devices above by settings the port index\n",
    "port_index = 1"
   ]
  },
  {
   "cell_type": "code",
   "execution_count": null,
   "metadata": {},
   "outputs": [],
   "source": [
    "midi_out.open_port(port_index)\n",
    "assert midi_out.is_port_open(), f\"unable to open midi port at index {port_index}\"\n",
    "\n",
    "port_name = midi_out.get_port_name(port_index)\n",
    "print(f\"opened port: {port_name}\")"
   ]
  },
  {
   "cell_type": "markdown",
   "metadata": {},
   "source": [
    "### Message Types"
   ]
  },
  {
   "cell_type": "markdown",
   "metadata": {},
   "source": [
    "#### Connection Control Messages"
   ]
  },
  {
   "cell_type": "code",
   "execution_count": null,
   "metadata": {},
   "outputs": [],
   "source": [
    "# map SoundSwitch \"Link\" button to 'MIDI_MSG_LINK_TOGGLE'\n",
    "midi_out.send_message(mm.MIDI_MSG_LINK_TOGGLE)"
   ]
  },
  {
   "cell_type": "code",
   "execution_count": null,
   "metadata": {},
   "outputs": [],
   "source": [
    "# map SoundSwitch \"BPM TAP\" DOWN button to 'MIDI_MSG_LINK_BPM_TAP_ON'\n",
    "midi_out.send_message(mm.MIDI_MSG_LINK_BPM_TAP_ON)"
   ]
  },
  {
   "cell_type": "code",
   "execution_count": null,
   "metadata": {},
   "outputs": [],
   "source": [
    "# map SoundSwitch \"BPM TAP\" UP button to 'MIDI_MSG_LINK_BPM_TAP_OFF'\n",
    "midi_out.send_message(mm.MIDI_MSG_LINK_BPM_TAP_OFF)"
   ]
  },
  {
   "cell_type": "markdown",
   "metadata": {},
   "source": [
    "#### Audio Control Messages"
   ]
  },
  {
   "cell_type": "code",
   "execution_count": null,
   "metadata": {},
   "outputs": [],
   "source": [
    "# map SoundSwitch \"Play/Pause\" button to 'MIDI_MSG_PAUSE_TOGGLE'\n",
    "midi_out.send_message(mm.MIDI_MSG_PAUSE_TOGGLE)"
   ]
  },
  {
   "cell_type": "code",
   "execution_count": null,
   "metadata": {},
   "outputs": [],
   "source": [
    "# map SoundSwitch \"Autoloop Intensity\" slider\n",
    "midi_out.send_message(mm.get_autoloop_intensity_msg(100.0 / 127.0))"
   ]
  },
  {
   "cell_type": "code",
   "execution_count": null,
   "metadata": {},
   "outputs": [],
   "source": [
    "# map SoundSwitch \"Scripted Track Intensity\" slider\n",
    "midi_out.send_message(mm.get_scripted_track_intensity_msg(100.0 / 127.0))"
   ]
  },
  {
   "cell_type": "code",
   "execution_count": null,
   "metadata": {},
   "outputs": [],
   "source": [
    "# map SoundSwitch \"Group 1 Intensity\" slider\n",
    "midi_out.send_message(mm.get_group_1_intensity_msg(100.0 / 127.0))"
   ]
  },
  {
   "cell_type": "code",
   "execution_count": null,
   "metadata": {},
   "outputs": [],
   "source": [
    "# map SoundSwitch \"Group 2 Intensity\" slider\n",
    "midi_out.send_message(mm.get_group_2_intensity_msg(100.0 / 127.0))"
   ]
  },
  {
   "cell_type": "code",
   "execution_count": null,
   "metadata": {},
   "outputs": [],
   "source": [
    "# map SoundSwitch \"Group 3 Intensity\" slider\n",
    "midi_out.send_message(mm.get_group_3_intensity_msg(100.0 / 127.0))"
   ]
  },
  {
   "cell_type": "code",
   "execution_count": null,
   "metadata": {},
   "outputs": [],
   "source": [
    "# map SoundSwitch \"Group 4 Intensity\" slider\n",
    "midi_out.send_message(mm.get_group_4_intensity_msg(100.0 / 127.0))"
   ]
  },
  {
   "cell_type": "markdown",
   "metadata": {},
   "source": [
    "#### Autoloop Control Messages"
   ]
  },
  {
   "cell_type": "code",
   "execution_count": null,
   "metadata": {},
   "outputs": [],
   "source": [
    "# map SoundSwitch \"Next Autoloop\" button DOWN\n",
    "midi_out.send_message(mm.MIDI_MSG_NEXT_AUTOLOOP_TAP_ON)"
   ]
  },
  {
   "cell_type": "code",
   "execution_count": null,
   "metadata": {},
   "outputs": [],
   "source": [
    "# map SoundSwitch \"Next Autoloop\" button DOWN\n",
    "midi_out.send_message(mm.MIDI_MSG_NEXT_AUTOLOOP_TAP_OFF)"
   ]
  },
  {
   "cell_type": "code",
   "execution_count": null,
   "metadata": {},
   "outputs": [],
   "source": []
  }
 ],
 "metadata": {
  "kernelspec": {
   "display_name": "Python 3 (ipykernel)",
   "language": "python",
   "name": "python3"
  },
  "language_info": {
   "codemirror_mode": {
    "name": "ipython",
    "version": 3
   },
   "file_extension": ".py",
   "mimetype": "text/x-python",
   "name": "python",
   "nbconvert_exporter": "python",
   "pygments_lexer": "ipython3",
   "version": "3.9.2"
  }
 },
 "nbformat": 4,
 "nbformat_minor": 4
}
