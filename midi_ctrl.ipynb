{
 "cells": [
  {
   "cell_type": "markdown",
   "metadata": {
    "collapsed": true
   },
   "source": [
    "### Midi Control Notebook"
   ]
  },
  {
   "cell_type": "code",
   "execution_count": null,
   "metadata": {},
   "outputs": [],
   "source": [
    "import rtmidi\n",
    "from rtmidi.midiconstants import NOTE_ON, NOTE_OFF\n",
    "\n",
    "MIDI_MSG_LINK_TOGGLE = [NOTE_ON, 1, 100]\n",
    "MIDI_MSG_LINK_BPM_TAP = [NOTE_ON, 2, 100]"
   ]
  },
  {
   "cell_type": "code",
   "execution_count": null,
   "metadata": {},
   "outputs": [],
   "source": [
    "midi_out = rtmidi.MidiOut()\n",
    "available_ports = midi_out.get_ports()\n",
    "print(f\"available midi ports: {available_ports}\")"
   ]
  },
  {
   "cell_type": "code",
   "execution_count": null,
   "metadata": {},
   "outputs": [],
   "source": [
    "# choose one of the available midi devices above by settings the port index\n",
    "port_index = 2"
   ]
  },
  {
   "cell_type": "code",
   "execution_count": null,
   "metadata": {},
   "outputs": [],
   "source": [
    "midi_out.open_port(port_index)\n",
    "assert midi_out.is_port_open(), f\"unable to open midi port at index {port_index}\"\n",
    "\n",
    "port_name = midi_out.get_port_name(port_index)\n",
    "print(f\"opened port: {port_name}\")"
   ]
  },
  {
   "cell_type": "code",
   "execution_count": null,
   "metadata": {},
   "outputs": [],
   "source": [
    "# map SoundSwitch \"Link\" button to 'MIDI_MSG_LINK_TOGGLE'\n",
    "midi_out.send_message(MIDI_MSG_LINK_TOGGLE)"
   ]
  },
  {
   "cell_type": "code",
   "execution_count": null,
   "metadata": {},
   "outputs": [],
   "source": [
    "# map SoundSwitch \"BPM TAP\" button to 'MIDI_MSG_LINK_BPM_TAP'\n",
    "midi_out.send_message(MIDI_MSG_LINK_BPM_TAP)"
   ]
  },
  {
   "cell_type": "code",
   "execution_count": null,
   "metadata": {},
   "outputs": [],
   "source": []
  }
 ],
 "metadata": {
  "kernelspec": {
   "display_name": "Python 3 (ipykernel)",
   "language": "python",
   "name": "python3"
  },
  "language_info": {
   "codemirror_mode": {
    "name": "ipython",
    "version": 3
   },
   "file_extension": ".py",
   "mimetype": "text/x-python",
   "name": "python",
   "nbconvert_exporter": "python",
   "pygments_lexer": "ipython3",
   "version": "3.9.4"
  }
 },
 "nbformat": 4,
 "nbformat_minor": 1
}
